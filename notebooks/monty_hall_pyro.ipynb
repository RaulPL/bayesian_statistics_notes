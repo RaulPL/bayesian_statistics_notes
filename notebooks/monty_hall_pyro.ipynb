{
 "cells": [
  {
   "cell_type": "markdown",
   "metadata": {
    "pycharm": {
     "name": "#%% md\n"
    }
   },
   "source": [
    "##  Monty Hall problem\n",
    "\n",
    "In this notebook we will explore the Monty Hall problem and we will solve\n",
    "it using Pyro.\n",
    "\n",
    "Watch this [video](https://www.youtube.com/watch?v=4Lb-6rxZxx0) if you don't\n",
    "know about this problem. You can also read more about its history in the\n",
    "[wikipedia](https://en.wikipedia.org/wiki/Monty_Hall_problem) page.\n",
    "\n",
    "TODO:\n",
    "* infer_discrete"
   ]
  },
  {
   "cell_type": "code",
   "execution_count": 1,
   "metadata": {
    "collapsed": false,
    "jupyter": {
     "outputs_hidden": false
    },
    "pycharm": {
     "name": "#%%\n"
    }
   },
   "outputs": [],
   "source": [
    "import daft\n",
    "import torch\n",
    "import pyro\n",
    "import pyro.distributions as dist\n",
    "import matplotlib.pyplot as plt\n",
    "from pyro.infer import Importance, EmpiricalMarginal\n",
    "from typing import List\n",
    "from collections import Counter\n",
    "\n",
    "pyro.set_rng_seed(101)\n",
    "pyro.enable_validation(True)"
   ]
  },
  {
   "cell_type": "markdown",
   "metadata": {
    "pycharm": {
     "name": "#%% md\n"
    }
   },
   "source": [
    "At first glance it is not that easy to note that the best strategy is\n",
    "always to switch to the other door but from the video we learned that the\n",
    "the problem can be solved analytically.\n",
    "\n",
    "Here we are going to use Pyro (a probabilistic programming tool) to solve this\n",
    "probality problem automatically.\n",
    "\n",
    "Pyro requieres that we program the generative process of the data (the\n",
    "model) using its semantics. Then we condition our program on\n",
    "the observed variables which are the constestant's door and the host's door.\n",
    "With this information we can run an approximate inference algorithm to get\n",
    "a probability distribution over the unobserved variable (the prize's door).\n",
    "\n",
    "The generative process of this problem is the following\n",
    "1. The prize is placed behind one of the 3 doors at random. This information\n",
    "is only available to the host.\n",
    "2. The contestant select one of the doors without open it. The host observes\n",
    "the selected door.\n",
    "3. The host choose a door that doesn't contain the prize and different from\n",
    "the contestant's door.\n",
    "4. Finally, the contestan has to choose between keeping her initial choice or\n",
    "pick the remaining door.\n",
    "\n",
    "The most interesting part of the program is the where we calculate the\n",
    "probability of a door will be opened by the host. This code is in the following\n",
    "function."
   ]
  },
  {
   "cell_type": "code",
   "execution_count": 2,
   "metadata": {
    "collapsed": false,
    "jupyter": {
     "outputs_hidden": false
    },
    "pycharm": {
     "name": "#%%\n"
    }
   },
   "outputs": [],
   "source": [
    "def host_conditional_probs(prize_door: int,\n",
    "                           contestant_door: int) -> List[float]:\n",
    "    \"\"\"Given the location of the prize and the door selected\n",
    "    by the contestant this function returns a list of the\n",
    "    probabilities of the host opening the remaining doors.\"\"\"\n",
    "    if prize_door == contestant_door:\n",
    "        probs = [0.5, 0.5, 0.5]\n",
    "        probs[contestant_door] = 0.\n",
    "        return probs\n",
    "    probs = [1., 1., 1.]\n",
    "    probs[contestant_door] = 0.\n",
    "    probs[prize_door] = 0.\n",
    "    return probs"
   ]
  },
  {
   "cell_type": "markdown",
   "metadata": {
    "pycharm": {
     "name": "#%% md\n"
    }
   },
   "source": [
    "Now we test this function in two different scenarios to see the possible\n",
    "choices of the host:\n",
    "* When the contestant selects the door with the prize\n",
    "* When the contestant selects a door without the prize"
   ]
  },
  {
   "cell_type": "code",
   "execution_count": 3,
   "metadata": {
    "collapsed": false,
    "jupyter": {
     "outputs_hidden": false
    },
    "pycharm": {
     "name": "#%%\n"
    }
   },
   "outputs": [],
   "source": [
    "# door ∈ {0, 1, 2}\n",
    "prize_door = 0\n",
    "contestant_door = 0\n",
    "assert host_conditional_probs(prize_door, contestant_door) == [0, 0.5, 0.5]\n",
    "\n",
    "prize_door = 0\n",
    "contestant_door = 1\n",
    "assert host_conditional_probs(prize_door, contestant_door) == [0, 0, 1]"
   ]
  },
  {
   "cell_type": "markdown",
   "metadata": {},
   "source": [
    "As you can see when the prize and the contestant's door are different the host\n",
    "only has one possible, so its choice is deterministic.\n",
    "\n",
    "We can describe the problem as the following probabilistic graphical model\n",
    "where the nodes represent random variables."
   ]
  },
  {
   "cell_type": "code",
   "execution_count": 10,
   "metadata": {
    "collapsed": false,
    "jupyter": {
     "outputs_hidden": false
    },
    "pycharm": {
     "name": "#%%\n"
    }
   },
   "outputs": [
    {
     "data": {
      "image/png": "[encoded data removed]",
      "text/plain": [
       "<Figure size 187.087x158.74 with 1 Axes>"
      ]
     },
     "metadata": {},
     "output_type": "display_data"
    }
   ],
   "source": [
    "pgm = daft.PGM()\n",
    "pgm.add_node(\"prize\", \"prize_door\", 0.5, 2, scale=2.2)\n",
    "pgm.add_node(\"contestant\", \"your_door\", 2.5, 2, scale=2.2, observed=True)\n",
    "pgm.add_node(\"host\", \"host_door\", 1.5, 0.5, scale=2.2, observed=True)\n",
    "pgm.add_edge(\"prize\", \"host\")\n",
    "pgm.add_edge(\"contestant\", \"host\")\n",
    "pgm.render();"
   ]
  },
  {
   "cell_type": "markdown",
   "metadata": {
    "pycharm": {
     "name": "#%% md\n"
    }
   },
   "source": [
    "In this DAG (directed acyclic graph) the shaded regions are observed variables\n",
    "from the contestant's perspective\n",
    "\n",
    "The model is the following"
   ]
  },
  {
   "cell_type": "code",
   "execution_count": 13,
   "metadata": {
    "collapsed": false,
    "jupyter": {
     "outputs_hidden": false
    },
    "pycharm": {
     "name": "#%%\n"
    }
   },
   "outputs": [],
   "source": [
    "def monty_hall_model(contestant_door: int):\n",
    "    \"\"\"Monty Hall model\"\"\"\n",
    "    probs_loc_prize = torch.tensor([1/3, 1/3, 1/3])\n",
    "    # assign the prize to a door with equal probability\n",
    "    prize_door = pyro.sample('prize_door', dist.Categorical(probs_loc_prize))\n",
    "    host_probs = host_conditional_probs(int(prize_door), contestant_door)\n",
    "    pyro.sample('host_door', dist.Categorical(torch.tensor(host_probs)))\n",
    "    return prize_door\n",
    "\n",
    "\n",
    "contestant_door = 0\n",
    "host_door = 1\n",
    "# the doors have to be different\n",
    "assert contestant_door != host_door\n",
    "\n",
    "# Conditioned model on host's door\n",
    "cond_model = pyro.condition(\n",
    "    monty_hall_model, data={\"host_door\": torch.tensor(host_door)}\n",
    ")\n",
    "\n",
    "# approximate inference\n",
    "n_samples = 1000\n",
    "traces = pyro.infer.Importance(cond_model, num_samples=n_samples).run(contestant_door)\n",
    "prize_marginal = pyro.infer.EmpiricalMarginal(traces, \"prize_door\")\n",
    "samples = [prize_marginal().detach().item() for _ in range(n_samples)]"
   ]
  },
  {
   "cell_type": "code",
   "execution_count": 14,
   "metadata": {
    "collapsed": false,
    "jupyter": {
     "outputs_hidden": false
    },
    "pycharm": {
     "name": "#%%\n"
    }
   },
   "outputs": [
    {
     "data": {
      "image/png": "[encoded data removed]",
      "text/plain": [
       "<Figure size 432x288 with 1 Axes>"
      ]
     },
     "metadata": {
      "needs_background": "light"
     },
     "output_type": "display_data"
    }
   ],
   "source": [
    "def prize_prob_plot(samples: List[int]):\n",
    "    doors = [0, 1, 2]\n",
    "    counter = Counter(samples)\n",
    "    probs = [counter.get(d, 0) / len(samples) for d in doors]\n",
    "    fig, ax = plt.subplots(1, 1)\n",
    "    ax.bar(doors, probs)\n",
    "    ax.set_title('Probability of the location of the prize')\n",
    "    ax.set_xlabel('doors')\n",
    "    ax.set_ylabel('Probability')\n",
    "    ax.set_ylim(0, 1)\n",
    "\n",
    "prize_prob_plot(samples)"
   ]
  },
  {
   "cell_type": "markdown",
   "metadata": {
    "jupyter": {
     "outputs_hidden": false
    },
    "pycharm": {
     "name": "#%%\n"
    }
   },
   "source": [
    "According to the plot there is higher probability that the prize is behind door number 2. \n",
    "Change the initial doors |"
   ]
  },
  {
   "cell_type": "markdown",
   "metadata": {},
   "source": [
    "### Bonus: infer_discrete"
   ]
  },
  {
   "cell_type": "code",
   "execution_count": null,
   "metadata": {
    "collapsed": false,
    "jupyter": {
     "outputs_hidden": false
    },
    "pycharm": {
     "name": "#%%\n"
    }
   },
   "outputs": [],
   "source": [
    "from pyro.infer import config_enumerate, infer_discrete\n",
    "\n"
   ]
  }
 ],
 "metadata": {
  "kernelspec": {
   "display_name": "Python 3",
   "language": "python",
   "name": "python3"
  },
  "language_info": {
   "codemirror_mode": {
    "name": "ipython",
    "version": 3
   },
   "file_extension": ".py",
   "mimetype": "text/x-python",
   "name": "python",
   "nbconvert_exporter": "python",
   "pygments_lexer": "ipython3",
   "version": "3.8.3"
  }
 },
 "nbformat": 4,
 "nbformat_minor": 4
}
