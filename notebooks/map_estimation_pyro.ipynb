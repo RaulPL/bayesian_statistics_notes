{
 "cells": [
  {
   "cell_type": "markdown",
   "metadata": {
    "pycharm": {
     "name": "#%% md\n"
    }
   },
   "source": [
    "## MAP estimation with Pyro"
   ]
  },
  {
   "cell_type": "code",
   "execution_count": 1,
   "metadata": {},
   "outputs": [],
   "source": [
    "import torch\n",
    "import pyro\n",
    "import numpy as np\n",
    "import arviz as az\n",
    "import matplotlib.pyplot as plt\n",
    "from tqdm import tqdm\n",
    "from scipy import stats\n",
    "from collections import Counter\n",
    "import pyro.distributions as dist\n",
    "from pyro.infer import Predictive, SVI, Trace_ELBO, NUTS, MCMC\n",
    "from pyro.infer.autoguide import AutoDelta\n",
    "from pyro.optim import Adam\n",
    "\n",
    "pyro.enable_validation(True)\n",
    "pyro.set_rng_seed(101)\n"
   ]
  },
  {
   "cell_type": "markdown",
   "metadata": {
    "pycharm": {
     "name": "#%% md\n"
    }
   },
   "source": [
    "### Beta Bernoulli model\n",
    "We will use a model that has closed solution of the posterior distribution\n",
    "to demonstrate how we can find the maximum a posterior (MAP) estimate with\n",
    "Pyro.\n",
    "\n",
    "Lets simulate some data points from a Bernoulli, this will be\n",
    "our real data."
   ]
  },
  {
   "cell_type": "code",
   "execution_count": 2,
   "metadata": {
    "pycharm": {
     "name": "#%%\n"
    }
   },
   "outputs": [
    {
     "name": "stdout",
     "output_type": "stream",
     "text": [
      "tensor([0., 0., 1., 0., 0., 1., 0., 0., 0., 0., 0., 1., 0., 0., 0.])\n"
     ]
    }
   ],
   "source": [
    "n_data_points = 15\n",
    "real_p = torch.tensor(0.1)\n",
    "real_dist = torch.distributions.Bernoulli(real_p)\n",
    "simulated_data = real_dist.sample((n_data_points,))\n",
    "print(simulated_data)"
   ]
  },
  {
   "cell_type": "markdown",
   "metadata": {},
   "source": [
    "Assuming a Beta Bernoulli model the posterior distribution is the following:\n",
    "$$Beta(\\alpha + number \\; of \\; ones, \\beta + number \\; of \\; zeros)$$\n",
    "\n",
    "You can check the theory [here](https://en.wikipedia.org/wiki/Conjugate_prior#Example)"
   ]
  },
  {
   "cell_type": "code",
   "execution_count": 3,
   "metadata": {
    "pycharm": {
     "name": "#%%\n"
    }
   },
   "outputs": [
    {
     "data": {
      "image/png": "[encoded data removed]",
      "text/plain": [
       "<Figure size 432x288 with 1 Axes>"
      ]
     },
     "metadata": {
      "needs_background": "light"
     },
     "output_type": "display_data"
    }
   ],
   "source": [
    "counts = Counter(simulated_data.numpy())\n",
    "# Beta(1 + #1s, 1 + #0s)\n",
    "beta_dist = stats.beta(1 + counts[1], 1 + counts[0])\n",
    "fig, ax = plt.subplots(1, 1)\n",
    "ps = np.linspace(0, 1, 100)\n",
    "ax.plot(ps, beta_dist.pdf(ps))\n",
    "ax.set_xlabel('p')\n",
    "ax.set_ylabel('prob(p)')\n",
    "ax.vlines(0.2, 0, 4, colors='r');"
   ]
  },
  {
   "cell_type": "markdown",
   "metadata": {
    "pycharm": {
     "name": "#%% md\n"
    }
   },
   "source": [
    "Given our model and the observed data, we see that the posterior distributiom \n",
    "peeks around 0.2 (the real value is 0.1). \n",
    "However for most of the problems is not easy to find the\n",
    "posterior distribution. This is why tools like Pyro or PyMC3(or PyMC4) were developed \n",
    "to help us estimate it.\n",
    "\n",
    "Lets define the model in Pyro"
   ]
  },
  {
   "cell_type": "code",
   "execution_count": 4,
   "metadata": {
    "pycharm": {
     "name": "#%%\n"
    }
   },
   "outputs": [],
   "source": [
    "def model(data: torch.Tensor) -> torch.Tensor:\n",
    "    alpha = torch.tensor(1.)\n",
    "    beta = torch.tensor(1.)\n",
    "    p = pyro.sample('p', dist.Beta(alpha, beta))\n",
    "    with pyro.plate('iid_obs', len(data)):\n",
    "        obs = pyro.sample('obs', dist.Bernoulli(p), obs=data)\n",
    "    return p\n"
   ]
  },
  {
   "cell_type": "markdown",
   "metadata": {
    "pycharm": {
     "name": "#%% md\n"
    }
   },
   "source": [
    "The  easiest way that I've found to estimate the MAP is through the\n",
    "AutoDelta guide. Using stochastic variational inference we can find the\n",
    "peek of the posterior distribution with following code."
   ]
  },
  {
   "cell_type": "code",
   "execution_count": 5,
   "metadata": {
    "pycharm": {
     "name": "#%%\n"
    }
   },
   "outputs": [
    {
     "name": "stderr",
     "output_type": "stream",
     "text": [
      "100%|██████████| 1000/1000 [00:02<00:00, 469.67it/s]\n"
     ]
    }
   ],
   "source": [
    "guide = AutoDelta(model)\n",
    "# Optimizer\n",
    "adam_params = {\"lr\": 0.005, \"betas\": (0.95, 0.999)}\n",
    "optimizer = Adam(adam_params)\n",
    "# inference objects\n",
    "svi = SVI(model, guide, optimizer, loss=Trace_ELBO())\n",
    "\n",
    "# gradient steps\n",
    "n_steps = 1000\n",
    "for step in tqdm(range(n_steps), total=n_steps):\n",
    "    svi.step(simulated_data)"
   ]
  },
  {
   "cell_type": "markdown",
   "metadata": {
    "pycharm": {
     "name": "#%% md\n"
    }
   },
   "source": [
    "If we sample from the adjusted distribution we will see that all the\n",
    "returned values corresponds to MAP point."
   ]
  },
  {
   "cell_type": "code",
   "execution_count": 6,
   "metadata": {
    "pycharm": {
     "name": "#%%\n"
    }
   },
   "outputs": [
    {
     "data": {
      "text/plain": [
       "array([0.20066166, 0.20066166, 0.20066166, 0.20066166, 0.20066166,\n",
       "       0.20066166, 0.20066166, 0.20066166, 0.20066166, 0.20066166],\n",
       "      dtype=float32)"
      ]
     },
     "execution_count": 6,
     "metadata": {},
     "output_type": "execute_result"
    }
   ],
   "source": [
    "predictive = Predictive(\n",
    "    model=model , guide=guide,\n",
    "    num_samples=10, parallel=True\n",
    ")\n",
    "samples = predictive(simulated_data)\n",
    "samples = {\n",
    "    k: v.detach().numpy().flatten()\n",
    "    for k, v in samples.items()\n",
    "}\n",
    "samples['p']"
   ]
  },
  {
   "cell_type": "markdown",
   "metadata": {},
   "source": [
    "Nevertheless, I prefer to estimate the full posterior distribution when\n",
    "the amount of data is limited because I can get a better picture of the\n",
    "uncertainty around my estimation. And for this model is easy to\n",
    "do it with MCMC."
   ]
  },
  {
   "cell_type": "code",
   "execution_count": 7,
   "metadata": {
    "pycharm": {
     "name": "#%%\n"
    }
   },
   "outputs": [
    {
     "name": "stderr",
     "output_type": "stream",
     "text": [
      "Sample: 100%|██████████| 1200/1200 [00:05, 235.19it/s, step size=1.43e+00, acc. prob=0.894]\n"
     ]
    }
   ],
   "source": [
    "nuts_kernel = NUTS(model, jit_compile=False)\n",
    "mcmc = MCMC(nuts_kernel, num_samples=1000, warmup_steps=200)\n",
    "mcmc.run(simulated_data)\n",
    "samples = {\n",
    "    k: v.detach().numpy()\n",
    "    for k, v in mcmc.get_samples().items()\n",
    "}"
   ]
  },
  {
   "cell_type": "code",
   "execution_count": 8,
   "metadata": {
    "pycharm": {
     "name": "#%%\n"
    }
   },
   "outputs": [
    {
     "data": {
      "image/png": "[encoded data removed]",
      "text/plain": [
       "<Figure size 432x288 with 1 Axes>"
      ]
     },
     "metadata": {
      "needs_background": "light"
     },
     "output_type": "display_data"
    }
   ],
   "source": [
    "ax = az.plot_posterior(samples['p'], kind='hist');\n",
    "plt.show()"
   ]
  },
  {
   "cell_type": "markdown",
   "metadata": {},
   "source": [
    "### Bonus: find the MAP point using scipy optimize and other Pyro functionalities\n",
    "\n",
    "With Pyro we can get the log probability of a model easily using the\n",
    "trace object, what we can do is condition our previous model on a specific\n",
    "value of __p__ in order to find which values returns the lowest negative \n",
    "log probability value (which is the point with the highest pdf)"
   ]
  },
  {
   "cell_type": "code",
   "execution_count": 9,
   "metadata": {
    "pycharm": {
     "name": "#%%\n"
    }
   },
   "outputs": [
    {
     "data": {
      "text/plain": [
       "10.397209167480469"
      ]
     },
     "execution_count": 9,
     "metadata": {},
     "output_type": "execute_result"
    }
   ],
   "source": [
    "from scipy import optimize\n",
    "\n",
    "\n",
    "def map_loss(p: float) -> float:\n",
    "    p = torch.tensor(float(p))\n",
    "    cond_model = pyro.condition(model, data={'p': p})\n",
    "    trace_handler = pyro.poutine.trace(cond_model)\n",
    "    trace = trace_handler.get_trace(simulated_data)\n",
    "    log_prob_sum = trace.log_prob_sum()\n",
    "    neg_log_prob = -log_prob_sum\n",
    "    return float(neg_log_prob.item())\n",
    "\n",
    "map_loss(0.5)"
   ]
  },
  {
   "cell_type": "code",
   "execution_count": 13,
   "metadata": {},
   "outputs": [
    {
     "data": {
      "image/png": "[encoded data removed]",
      "text/plain": [
       "<Figure size 432x288 with 1 Axes>"
      ]
     },
     "metadata": {
      "needs_background": "light"
     },
     "output_type": "display_data"
    }
   ],
   "source": [
    "fig, ax = plt.subplots(1, 1)\n",
    "# we will not use 0, 1 as the limits beacuase  \n",
    "# given the data those points might not be feasiable\n",
    "bounds = (0.00001, 0.99999)\n",
    "ps = np.linspace(bounds[0], bounds[1], 100)\n",
    "loss_values = np.array([map_loss(p) for p in ps])\n",
    "ax.plot(ps, loss_values)\n",
    "ax.vlines(0.2, 7, 140, colors='r')\n",
    "ax.set_xlabel('p')\n",
    "ax.set_ylabel('neg_log_prob(p)')\n",
    "plt.show()\n"
   ]
  },
  {
   "cell_type": "code",
   "execution_count": 11,
   "metadata": {
    "pycharm": {
     "name": "#%%\n"
    }
   },
   "outputs": [
    {
     "data": {
      "text/plain": [
       "     fun: 7.506034851074219\n",
       " message: 'Solution found.'\n",
       "    nfev: 14\n",
       "  status: 0\n",
       " success: True\n",
       "       x: 0.2000077794371028"
      ]
     },
     "execution_count": 11,
     "metadata": {},
     "output_type": "execute_result"
    }
   ],
   "source": [
    "result = optimize.minimize_scalar(\n",
    "    map_loss, bounds=bounds, method='bounded'\n",
    ")\n",
    "result"
   ]
  },
  {
   "cell_type": "markdown",
   "metadata": {
    "pycharm": {
     "name": "#%% md\n"
    }
   },
   "source": [
    "The resulting value of the optimization is the same as the one found by the AutoDelta guide.\n",
    "However I do not recommend using this method since it can be slower and you have to define \n",
    "more steps according to your problem.\n",
    "\n"
   ]
  }
 ],
 "metadata": {
  "kernelspec": {
   "display_name": "Python 3",
   "language": "python",
   "name": "python3"
  },
  "language_info": {
   "codemirror_mode": {
    "name": "ipython",
    "version": 3
   },
   "file_extension": ".py",
   "mimetype": "text/x-python",
   "name": "python",
   "nbconvert_exporter": "python",
   "pygments_lexer": "ipython3",
   "version": "3.8.3"
  }
 },
 "nbformat": 4,
 "nbformat_minor": 4
}
